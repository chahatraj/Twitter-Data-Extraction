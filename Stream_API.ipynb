{
  "nbformat": 4,
  "nbformat_minor": 0,
  "metadata": {
    "colab": {
      "name": "Stream API.ipynb",
      "provenance": []
    },
    "kernelspec": {
      "name": "python3",
      "display_name": "Python 3"
    }
  },
  "cells": [
    {
      "cell_type": "code",
      "metadata": {
        "id": "QR2HoMNIlCRA"
      },
      "source": [
        "!pip install tweepy\n",
        "\n",
        "from tweepy.streaming import StreamListener\n",
        "from tweepy import OAuthHandler\n",
        "from tweepy import Stream\n",
        "\n",
        "access_token = \"XXXXXXXXXXXXXXXXXXXXXXXXXXXXXXXXXXXXXXXX\"\n",
        "access_token_secret = \"XXXXXXXXXXXXXXXXXXXXXXXXXXXXXXXXXXXXXXXXXXX\"\n",
        "consumer_key = \"XXXXXXXXXXXXXXXXXXXXXXXXXXX\"\n",
        "consumer_secret = \"XXXXXXXXXXXXXXXXXXXXXXXXXXXXXXXXXXXXXXXXXXXXXXXXX\"\n",
        "\n",
        "f=open(\"data.txt\",\"w\")\n",
        "\n",
        "tracklist = ['#hotel', 'hotel']\n",
        "\n",
        "tweet_count = 0\n",
        "n_tweets = 10\n",
        "    \n",
        "class StdOutListener(StreamListener):\n",
        "      \n",
        "    def on_data(self, data):\n",
        "        global tweet_count\n",
        "        global n_tweets\n",
        "        global stream\n",
        "        if tweet_count < n_tweets:\n",
        "            print(data)\n",
        "            f.write(data)\n",
        "            tweet_count += 1\n",
        "            return True\n",
        "        else:\n",
        "            stream.disconnect()\n",
        "\n",
        "    def on_error(self, status):\n",
        "        print(status)\n",
        "\n",
        "l = StdOutListener()\n",
        "auth = OAuthHandler(consumer_key, consumer_secret)\n",
        "auth.set_access_token(access_token, access_token_secret)\n",
        "stream = Stream(auth, l)\n",
        "stream.filter(track=tracklist)\n",
        "f.close();"
      ],
      "execution_count": null,
      "outputs": []
    }
  ]
}