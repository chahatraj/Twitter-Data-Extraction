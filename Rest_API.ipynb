{
  "nbformat": 4,
  "nbformat_minor": 0,
  "metadata": {
    "colab": {
      "name": "Rest API.ipynb",
      "provenance": []
    },
    "kernelspec": {
      "name": "python3",
      "display_name": "Python 3"
    }
  },
  "cells": [
    {
      "cell_type": "code",
      "metadata": {
        "id": "87p_tQzJeGCQ"
      },
      "source": [
        "!pip install html2text"
      ],
      "execution_count": null,
      "outputs": []
    },
    {
      "cell_type": "code",
      "metadata": {
        "id": "PUAJZliteIBB"
      },
      "source": [
        "import os\n",
        "import numpy as np\n",
        "import tweepy as tw\n",
        "import pandas as pd\n",
        "import requests\n",
        "from bs4 import BeautifulSoup\n",
        "import csv\n",
        "import requests\n",
        "import html5lib\n",
        "import html2text as h\n",
        "\n",
        "consumer_key='XXXXXXXXXXXXXXXXXXXXXXXXXXXXXXX'\n",
        "consumer_secret='XXXXXXXXXXXXXXXXXXXXXXXXXXXXXXXXXXXXXXXXXXXXX'\n",
        "access_token='XXXXXXXXXXXXXXXXXXXXXXXXXXXXXXXXXXXXXXXXXXXXXXXXXXXXXXXXXX'\n",
        "access_token_secret='XXXXXXXXXXXXXXXXXXXXXXXXXXXXXXXXXXXXXXXXXXXXXX'\n",
        "auth = tw.OAuthHandler(consumer_key,consumer_secret )\n",
        "auth.set_access_token(access_token,access_token_secret )\n",
        "api = tw.API(auth, wait_on_rate_limit=True)\n",
        "\n",
        "# test authentication\n",
        "\n",
        "try:\n",
        "    api.verify_credentials()\n",
        "    print(\"Authentication OK\")\n",
        "except:\n",
        "    print(\"Error during authentication\")\n",
        "\n",
        "\n",
        "search_words = \"covid\"\n",
        "\n",
        "date_since = \"2020-06-02\"\n",
        "date_until = \"2020-10-16\"\n",
        "\n",
        "tweets = tw.Cursor(api.search,\n",
        "              q=search_words, tweet_mode='extended',\n",
        "              lang=\"en\", result_type=\"recent\", \n",
        "              since=date_since, until=date_until).items(100)"
      ],
      "execution_count": null,
      "outputs": []
    },
    {
      "cell_type": "code",
      "metadata": {
        "id": "6h1sN2F7eVdp"
      },
      "source": [
        "IDs = []\n",
        "USERNAMES = []\n",
        "HANDLE = []\n",
        "LANGUAGE = []\n",
        "LOCATION = []\n",
        "TWEETS = []\n",
        "RETWEET = []\n",
        "MEDIA = []\n",
        "CREATED = []\n",
        "SOURCE = []\n",
        "ENTITIES = []\n",
        "COORDINATES = []\n",
        "METADATA = []\n",
        "\n",
        "for t in tweets:\n",
        "  IDs.append(t.id)\n",
        "  USERNAMES.append(t.user.name)\n",
        "  HANDLE.append(t.user.screen_name)\n",
        "  LANGUAGE.append(t.lang)\n",
        "  LOCATION.append(t.user.location)\n",
        "  TWEETS.append(t.full_text)\n",
        "  RETWEET.append(t.retweet_count)\n",
        "  CREATED.append(t.created_at)\n",
        "  SOURCE.append(t.source_url)\n",
        "  ENTITIES.append(t.entities)\n",
        "  COORDINATES.append(t.coordinates)\n",
        "  METADATA.append(t.metadata)\n",
        "\n",
        "\n",
        "  if 'media' in t.entities:\n",
        "            for media in t.extended_entities['media']:\n",
        "                MEDIA.append(media['media_url'])\n",
        "                \n",
        "  else:\n",
        "    MEDIA.append('N/A')\n",
        "    \n",
        "\n",
        "print('****************************************FETCHING FINISHED****************************************')"
      ],
      "execution_count": null,
      "outputs": []
    },
    {
      "cell_type": "code",
      "metadata": {
        "id": "vxV25VjbelS9"
      },
      "source": [
        "df = pd.DataFrame(columns=['USER IDs', 'USERNAMES', 'HANDLE', 'LANGUAGE', 'LOCATION', 'TWEETS', 'RETWEET COUNT', 'CREATED AT', 'MEDIA URLs', 'SOURCE URLS', 'ENTITIES', 'COORDINATES', 'METADATA'])\n",
        "df"
      ],
      "execution_count": null,
      "outputs": []
    },
    {
      "cell_type": "code",
      "metadata": {
        "id": "XZU6lTXTiErT"
      },
      "source": [
        "df['USER IDs'] = IDs\n",
        "df['USERNAMES'] = USERNAMES\n",
        "df['HANDLE'] = HANDLE\n",
        "df['LANGUAGE'] = LANGUAGE\n",
        "df['LOCATION'] = LOCATION\n",
        "df['TWEETS'] = TWEETS\n",
        "df['RETWEET COUNT'] = RETWEET\n",
        "df['CREATED AT'] = CREATED\n",
        "df['MEDIA URLs'] = pd.Series(MEDIA)\n",
        "df['SOURCE URLS'] = SOURCE\n",
        "df['ENTITIES'] = ENTITIES\n",
        "df['COORDINATES'] = ENTITIES\n",
        "df['METADATA'] = METADATA\n",
        "df.insert(loc=0, column='SERIAL NO.', value=np.arange(len(df)))\n",
        "df.head()"
      ],
      "execution_count": null,
      "outputs": []
    },
    {
      "cell_type": "code",
      "metadata": {
        "id": "q6KKfLsiiJ5k"
      },
      "source": [
        "df.to_csv('data.csv')"
      ],
      "execution_count": null,
      "outputs": []
    }
  ]
}